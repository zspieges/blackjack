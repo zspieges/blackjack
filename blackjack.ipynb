{
 "cells": [
  {
   "cell_type": "code",
   "execution_count": 170,
   "id": "06eeebfc-e7e9-4ce0-b518-f854236e7723",
   "metadata": {},
   "outputs": [],
   "source": [
    "import pandas as pd\n",
    "import pydealer\n",
    "from time import sleep"
   ]
  },
  {
   "cell_type": "code",
   "execution_count": 178,
   "id": "09b854e4-7fbe-4697-af6f-ddd3b9eca0e2",
   "metadata": {},
   "outputs": [],
   "source": [
    "class Blackjack:\n",
    "    def card_value(card):\n",
    "        if card.split(' ')[0] in ['Queen', 'Jack', 'King']:\n",
    "            value = 10\n",
    "        else:\n",
    "            value = int(card.split(' ')[0])\n",
    "        return value\n",
    "        \n",
    "    def ace_value_first_two(card1, card2):\n",
    "        if card1.split(' ')[0] == 'Ace' and card2.split(' ')[0] == 'Ace':\n",
    "            while True:\n",
    "                ans = input(\"You got two Aces. Split the Aces? (Y/N)\")\n",
    "                if ans in ['Y','N']:\n",
    "                    break\n",
    "                else:\n",
    "                    print(\"Brother -- do you wan't to split the Aces or not?\")\n",
    "            if ans == 'Y':\n",
    "                value = 12\n",
    "            else:\n",
    "                value = 2\n",
    "        else:\n",
    "            if card1.split(' ')[0] == 'Ace':\n",
    "                non_ace = card2\n",
    "            else:\n",
    "                non_ace = card1\n",
    "            if 11 + card_value(non_ace) == 21:\n",
    "                value = 11\n",
    "            elif 11 + card_value(non_ace) > 21:\n",
    "                value = 1\n",
    "            else:\n",
    "                value = 11\n",
    "        return value\n",
    "    \n",
    "    def play():\n",
    "        print(\"Let's play blackjack! Closest to 21 without going over wins!\")\n",
    "        user = input(\"What's your name?\")\n",
    "    \n",
    "        while True:\n",
    "            answer = input(f\"Okay {user}, ready to play? (Y/N)\")\n",
    "            if answer == 'Y':\n",
    "                print(\"Let's party.\")\n",
    "                break\n",
    "            elif answer == 'N':\n",
    "                print(\"Too bad, we're playing.\")\n",
    "                break\n",
    "            else:\n",
    "                print(\"That's not yes or no. Do you wanna play or not?\")\n",
    "        sleep(2)\n",
    "        while True:\n",
    "            wager = int(input('What do you want to wage? (Use a positive integer)'))\n",
    "            if 0 < wager:\n",
    "                break\n",
    "            else:\n",
    "                print(\"That's not a positive integer. Try again.\")\n",
    "        sleep(2)\n",
    "        print(f'Current wager is ${wager}.')\n",
    "        sleep(2)\n",
    "        if wager > 100:\n",
    "            print(f\"Damm, ${wager}? I guess you're rich.\")\n",
    "            sleep(2)\n",
    "            print(\"Whatever, moving on.\")\n",
    "        elif wager < 5:\n",
    "            print(f\"${wager}? Are you poor or something?\")\n",
    "            sleep(2)\n",
    "            print(\"Whatever, moving on.\")\n",
    "\n",
    "        sleep(2)\n",
    "        deck = pydealer.Deck()\n",
    "        print(\"Shuffling...\")\n",
    "        sleep(2)\n",
    "        deck.shuffle()\n",
    "        winnings = 0\n",
    "        print(\"Dealing...\")\n",
    "        sleep(2)\n",
    "        hand = deck.deal(2)\n",
    "        card1 = str(hand[0])\n",
    "        card2 = str(hand[1])\n",
    "        print(f\"Your first card is {card1}.\")\n",
    "        print(f\"Your second card is {card2}.\")\n",
    "        if card1.split(' ')[0] == 'Ace' and card2.split(' ')[0] == 'Ace':\n",
    "            sum = Blackjack.ace_value_first_two(card1, card2)\n",
    "        elif card1.split(' ')[0] == 'Ace' or card2.split(' ')[0] == 'Ace':\n",
    "            val_ace = Blackjack.ace_value_first_two(card1, card2)\n",
    "            if card1.split(' ')[0] == 'Ace':\n",
    "                non_ace = card2\n",
    "            else:\n",
    "                non_ace = card1\n",
    "            val_non_ace = Blackjack.card_value(non_ace)\n",
    "            sum = val_ace + val_non_ace\n",
    "            if sum == 21:\n",
    "                print('Blackjack! You win.')\n",
    "            elif sum > 21:\n",
    "                print('Bust!')\n",
    "                print('Game over.')\n",
    "            else:\n",
    "                print('Under 21')\n",
    "        else:\n",
    "            if Blackjack.card_value(card1) + Blackjack.card_value(card1) == 21:\n",
    "                print('Blackjack! You win.')\n",
    "                winnings = winnings + wager\n",
    "                print(f\"Total winnings: {winnings}\")\n",
    "            elif Blackjack.card_value(card1) + Blackjack.card_value(card1) > 21:\n",
    "                print('Bust!')\n",
    "                print('Game over.')\n",
    "                winnings = winnings - wager\n",
    "                print(f\"Total winnings: {winnings}\")\n",
    "            else:\n",
    "                print('Under 21')"
   ]
  },
  {
   "cell_type": "code",
   "execution_count": 179,
   "id": "1d203e83-3259-415e-af69-574de3489653",
   "metadata": {},
   "outputs": [
    {
     "name": "stdout",
     "output_type": "stream",
     "text": [
      "Let's play blackjack! Closest to 21 without going over wins!\n"
     ]
    },
    {
     "name": "stdin",
     "output_type": "stream",
     "text": [
      "What's your name? UY\n",
      "Okay UY, ready to play? (Y/N) N\n"
     ]
    },
    {
     "name": "stdout",
     "output_type": "stream",
     "text": [
      "Too bad, we're playing.\n"
     ]
    },
    {
     "name": "stdin",
     "output_type": "stream",
     "text": [
      "What do you want to wage? (Use a positive integer) 3\n"
     ]
    },
    {
     "name": "stdout",
     "output_type": "stream",
     "text": [
      "Current wager is $3.\n",
      "$3? Are you poor or something?\n",
      "Whatever, moving on.\n",
      "Shuffling...\n",
      "Dealing...\n",
      "Your first card is 8 of Hearts.\n",
      "Your second card is Ace of Hearts.\n",
      "Under 21\n"
     ]
    }
   ],
   "source": [
    "Blackjack.play()"
   ]
  },
  {
   "cell_type": "code",
   "execution_count": null,
   "id": "2e850c38-d851-40b4-84db-91b72fbbbf48",
   "metadata": {},
   "outputs": [],
   "source": []
  }
 ],
 "metadata": {
  "kernelspec": {
   "display_name": "Python 3 (ipykernel)",
   "language": "python",
   "name": "python3"
  },
  "language_info": {
   "codemirror_mode": {
    "name": "ipython",
    "version": 3
   },
   "file_extension": ".py",
   "mimetype": "text/x-python",
   "name": "python",
   "nbconvert_exporter": "python",
   "pygments_lexer": "ipython3",
   "version": "3.12.4"
  }
 },
 "nbformat": 4,
 "nbformat_minor": 5
}
